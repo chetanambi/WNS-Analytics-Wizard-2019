{
 "cells": [
  {
   "cell_type": "markdown",
   "metadata": {},
   "source": [
    "Problem Statement\n",
    "\n",
    "Zbay is an E-commerce website which sells a variety of products at its online platform. Zbay records user behaviour of its customers and stores it as a log. However, most of the times, users do not buy the products instantly and there is a time gap during which the customer might surf the internet and maybe visit competitor websites.\n",
    "\n",
    "Now, to improve sales of products, Zbay has hired Adiza, an Adtech company which built a system such that ads are being shown for Zbay’s products on its partner websites.\n",
    "\n",
    "If a user comes to Zbay’s website and searches for a product, and then visits these partner websites or apps, his/her previously viewed items or their similar items are shown on as an ad. If the user clicks this ad, he/she will be redirected to the Zbay’s website and might buy the product."
   ]
  },
  {
   "cell_type": "markdown",
   "metadata": {},
   "source": [
    "### Import libraries"
   ]
  },
  {
   "cell_type": "code",
   "execution_count": 1,
   "metadata": {},
   "outputs": [],
   "source": [
    "import re\n",
    "import pandas as pd\n",
    "import numpy as np\n",
    "import matplotlib.pyplot as plt\n",
    "import warnings\n",
    "import seaborn as sns\n",
    "sns.set_style('darkgrid')\n",
    "warnings.filterwarnings('ignore')"
   ]
  },
  {
   "cell_type": "markdown",
   "metadata": {},
   "source": [
    "### Import datasets"
   ]
  },
  {
   "cell_type": "code",
   "execution_count": 2,
   "metadata": {},
   "outputs": [],
   "source": [
    "train = pd.read_csv('train.csv')\n",
    "test = pd.read_csv('test.csv')\n",
    "sub = pd.read_csv('sample_submission.csv')\n",
    "view = pd.read_csv('view_log.csv')\n",
    "item = pd.read_csv('item_data.csv')"
   ]
  },
  {
   "cell_type": "markdown",
   "metadata": {},
   "source": [
    "### Data exploration"
   ]
  },
  {
   "cell_type": "code",
   "execution_count": 3,
   "metadata": {},
   "outputs": [
    {
     "data": {
      "text/plain": [
       "((237609, 7), (90675, 6), (90675, 2), (3118622, 5), (132761, 6))"
      ]
     },
     "execution_count": 3,
     "metadata": {},
     "output_type": "execute_result"
    }
   ],
   "source": [
    "train.shape, test.shape, sub.shape, view.shape, item.shape"
   ]
  },
  {
   "cell_type": "code",
   "execution_count": 4,
   "metadata": {},
   "outputs": [
    {
     "data": {
      "text/plain": [
       "(0, 0, 0)"
      ]
     },
     "execution_count": 4,
     "metadata": {},
     "output_type": "execute_result"
    }
   ],
   "source": [
    "train.duplicated().sum(), test.duplicated().sum(), sub.duplicated().sum()"
   ]
  },
  {
   "cell_type": "code",
   "execution_count": 5,
   "metadata": {},
   "outputs": [
    {
     "data": {
      "text/plain": [
       "impression_id      237609\n",
       "impression_time     36461\n",
       "user_id             74723\n",
       "app_code              490\n",
       "os_version              3\n",
       "is_4G                   2\n",
       "is_click                2\n",
       "dtype: int64"
      ]
     },
     "execution_count": 5,
     "metadata": {},
     "output_type": "execute_result"
    }
   ],
   "source": [
    "train.nunique()"
   ]
  },
  {
   "cell_type": "code",
   "execution_count": 6,
   "metadata": {},
   "outputs": [
    {
     "data": {
      "text/plain": [
       "impression_id      90675\n",
       "impression_time     9636\n",
       "user_id            34079\n",
       "app_code             373\n",
       "os_version             3\n",
       "is_4G                  2\n",
       "dtype: int64"
      ]
     },
     "execution_count": 6,
     "metadata": {},
     "output_type": "execute_result"
    }
   ],
   "source": [
    "test.nunique()"
   ]
  },
  {
   "cell_type": "code",
   "execution_count": 7,
   "metadata": {},
   "outputs": [
    {
     "data": {
      "text/html": [
       "<div>\n",
       "<style scoped>\n",
       "    .dataframe tbody tr th:only-of-type {\n",
       "        vertical-align: middle;\n",
       "    }\n",
       "\n",
       "    .dataframe tbody tr th {\n",
       "        vertical-align: top;\n",
       "    }\n",
       "\n",
       "    .dataframe thead th {\n",
       "        text-align: right;\n",
       "    }\n",
       "</style>\n",
       "<table border=\"1\" class=\"dataframe\">\n",
       "  <thead>\n",
       "    <tr style=\"text-align: right;\">\n",
       "      <th></th>\n",
       "      <th>impression_id</th>\n",
       "      <th>impression_time</th>\n",
       "      <th>user_id</th>\n",
       "      <th>app_code</th>\n",
       "      <th>os_version</th>\n",
       "      <th>is_4G</th>\n",
       "      <th>is_click</th>\n",
       "    </tr>\n",
       "  </thead>\n",
       "  <tbody>\n",
       "    <tr>\n",
       "      <th>0</th>\n",
       "      <td>c4ca4238a0b923820dcc509a6f75849b</td>\n",
       "      <td>2018-11-15 00:00:00</td>\n",
       "      <td>87862</td>\n",
       "      <td>422</td>\n",
       "      <td>old</td>\n",
       "      <td>0</td>\n",
       "      <td>0</td>\n",
       "    </tr>\n",
       "    <tr>\n",
       "      <th>1</th>\n",
       "      <td>45c48cce2e2d7fbdea1afc51c7c6ad26</td>\n",
       "      <td>2018-11-15 00:01:00</td>\n",
       "      <td>63410</td>\n",
       "      <td>467</td>\n",
       "      <td>latest</td>\n",
       "      <td>1</td>\n",
       "      <td>1</td>\n",
       "    </tr>\n",
       "  </tbody>\n",
       "</table>\n",
       "</div>"
      ],
      "text/plain": [
       "                      impression_id      impression_time  user_id  app_code  \\\n",
       "0  c4ca4238a0b923820dcc509a6f75849b  2018-11-15 00:00:00    87862       422   \n",
       "1  45c48cce2e2d7fbdea1afc51c7c6ad26  2018-11-15 00:01:00    63410       467   \n",
       "\n",
       "  os_version  is_4G  is_click  \n",
       "0        old      0         0  \n",
       "1     latest      1         1  "
      ]
     },
     "execution_count": 7,
     "metadata": {},
     "output_type": "execute_result"
    }
   ],
   "source": [
    "train.head(2)"
   ]
  },
  {
   "cell_type": "code",
   "execution_count": 8,
   "metadata": {},
   "outputs": [
    {
     "data": {
      "text/html": [
       "<div>\n",
       "<style scoped>\n",
       "    .dataframe tbody tr th:only-of-type {\n",
       "        vertical-align: middle;\n",
       "    }\n",
       "\n",
       "    .dataframe tbody tr th {\n",
       "        vertical-align: top;\n",
       "    }\n",
       "\n",
       "    .dataframe thead th {\n",
       "        text-align: right;\n",
       "    }\n",
       "</style>\n",
       "<table border=\"1\" class=\"dataframe\">\n",
       "  <thead>\n",
       "    <tr style=\"text-align: right;\">\n",
       "      <th></th>\n",
       "      <th>server_time</th>\n",
       "      <th>device_type</th>\n",
       "      <th>session_id</th>\n",
       "      <th>user_id</th>\n",
       "      <th>item_id</th>\n",
       "    </tr>\n",
       "  </thead>\n",
       "  <tbody>\n",
       "    <tr>\n",
       "      <th>0</th>\n",
       "      <td>2018-10-15 08:58:00</td>\n",
       "      <td>android</td>\n",
       "      <td>112333</td>\n",
       "      <td>4557</td>\n",
       "      <td>32970</td>\n",
       "    </tr>\n",
       "    <tr>\n",
       "      <th>1</th>\n",
       "      <td>2018-10-15 08:58:00</td>\n",
       "      <td>android</td>\n",
       "      <td>503590</td>\n",
       "      <td>74788</td>\n",
       "      <td>7640</td>\n",
       "    </tr>\n",
       "  </tbody>\n",
       "</table>\n",
       "</div>"
      ],
      "text/plain": [
       "           server_time device_type  session_id  user_id  item_id\n",
       "0  2018-10-15 08:58:00     android      112333     4557    32970\n",
       "1  2018-10-15 08:58:00     android      503590    74788     7640"
      ]
     },
     "execution_count": 8,
     "metadata": {},
     "output_type": "execute_result"
    }
   ],
   "source": [
    "view.head(2)"
   ]
  },
  {
   "cell_type": "code",
   "execution_count": 9,
   "metadata": {},
   "outputs": [
    {
     "data": {
      "text/html": [
       "<div>\n",
       "<style scoped>\n",
       "    .dataframe tbody tr th:only-of-type {\n",
       "        vertical-align: middle;\n",
       "    }\n",
       "\n",
       "    .dataframe tbody tr th {\n",
       "        vertical-align: top;\n",
       "    }\n",
       "\n",
       "    .dataframe thead th {\n",
       "        text-align: right;\n",
       "    }\n",
       "</style>\n",
       "<table border=\"1\" class=\"dataframe\">\n",
       "  <thead>\n",
       "    <tr style=\"text-align: right;\">\n",
       "      <th></th>\n",
       "      <th>item_id</th>\n",
       "      <th>item_price</th>\n",
       "      <th>category_1</th>\n",
       "      <th>category_2</th>\n",
       "      <th>category_3</th>\n",
       "      <th>product_type</th>\n",
       "    </tr>\n",
       "  </thead>\n",
       "  <tbody>\n",
       "    <tr>\n",
       "      <th>0</th>\n",
       "      <td>26880</td>\n",
       "      <td>4602</td>\n",
       "      <td>11</td>\n",
       "      <td>35</td>\n",
       "      <td>20</td>\n",
       "      <td>3040</td>\n",
       "    </tr>\n",
       "    <tr>\n",
       "      <th>1</th>\n",
       "      <td>54939</td>\n",
       "      <td>3513</td>\n",
       "      <td>12</td>\n",
       "      <td>57</td>\n",
       "      <td>85</td>\n",
       "      <td>6822</td>\n",
       "    </tr>\n",
       "  </tbody>\n",
       "</table>\n",
       "</div>"
      ],
      "text/plain": [
       "   item_id  item_price  category_1  category_2  category_3  product_type\n",
       "0    26880        4602          11          35          20          3040\n",
       "1    54939        3513          12          57          85          6822"
      ]
     },
     "execution_count": 9,
     "metadata": {},
     "output_type": "execute_result"
    }
   ],
   "source": [
    "item.head(2)"
   ]
  },
  {
   "cell_type": "code",
   "execution_count": 10,
   "metadata": {},
   "outputs": [
    {
     "name": "stdout",
     "output_type": "stream",
     "text": [
      "<class 'pandas.core.frame.DataFrame'>\n",
      "RangeIndex: 3118622 entries, 0 to 3118621\n",
      "Data columns (total 5 columns):\n",
      "server_time    object\n",
      "device_type    object\n",
      "session_id     int64\n",
      "user_id        int64\n",
      "item_id        int64\n",
      "dtypes: int64(3), object(2)\n",
      "memory usage: 119.0+ MB\n"
     ]
    }
   ],
   "source": [
    "view.info()"
   ]
  },
  {
   "cell_type": "code",
   "execution_count": 11,
   "metadata": {},
   "outputs": [
    {
     "name": "stdout",
     "output_type": "stream",
     "text": [
      "<class 'pandas.core.frame.DataFrame'>\n",
      "RangeIndex: 237609 entries, 0 to 237608\n",
      "Data columns (total 7 columns):\n",
      "impression_id      237609 non-null object\n",
      "impression_time    237609 non-null object\n",
      "user_id            237609 non-null int64\n",
      "app_code           237609 non-null int64\n",
      "os_version         237609 non-null object\n",
      "is_4G              237609 non-null int64\n",
      "is_click           237609 non-null int64\n",
      "dtypes: int64(4), object(3)\n",
      "memory usage: 12.7+ MB\n"
     ]
    }
   ],
   "source": [
    "train.info()"
   ]
  },
  {
   "cell_type": "code",
   "execution_count": 12,
   "metadata": {},
   "outputs": [
    {
     "data": {
      "text/plain": [
       "server_time      82840\n",
       "device_type          3\n",
       "session_id     1014970\n",
       "user_id          89157\n",
       "item_id         126708\n",
       "dtype: int64"
      ]
     },
     "execution_count": 12,
     "metadata": {},
     "output_type": "execute_result"
    }
   ],
   "source": [
    "view.nunique()"
   ]
  },
  {
   "cell_type": "code",
   "execution_count": 13,
   "metadata": {},
   "outputs": [
    {
     "data": {
      "text/plain": [
       "impression_id      237609\n",
       "impression_time     36461\n",
       "user_id             74723\n",
       "app_code              490\n",
       "os_version              3\n",
       "is_4G                   2\n",
       "is_click                2\n",
       "dtype: int64"
      ]
     },
     "execution_count": 13,
     "metadata": {},
     "output_type": "execute_result"
    }
   ],
   "source": [
    "train.nunique()"
   ]
  },
  {
   "cell_type": "code",
   "execution_count": 14,
   "metadata": {},
   "outputs": [
    {
     "data": {
      "text/plain": [
       "impression_id      90675\n",
       "impression_time     9636\n",
       "user_id            34079\n",
       "app_code             373\n",
       "os_version             3\n",
       "is_4G                  2\n",
       "dtype: int64"
      ]
     },
     "execution_count": 14,
     "metadata": {},
     "output_type": "execute_result"
    }
   ],
   "source": [
    "test.nunique()"
   ]
  },
  {
   "cell_type": "code",
   "execution_count": 15,
   "metadata": {},
   "outputs": [
    {
     "data": {
      "image/png": "[encoded data removed]",
      "text/plain": [
       "<Figure size 432x288 with 1 Axes>"
      ]
     },
     "metadata": {
      "needs_background": "light"
     },
     "output_type": "display_data"
    }
   ],
   "source": [
    "sns.countplot(train['is_click']);"
   ]
  },
  {
   "cell_type": "code",
   "execution_count": 16,
   "metadata": {},
   "outputs": [
    {
     "data": {
      "text/plain": [
       "0    0.954286\n",
       "1    0.045714\n",
       "Name: is_click, dtype: float64"
      ]
     },
     "execution_count": 16,
     "metadata": {},
     "output_type": "execute_result"
    }
   ],
   "source": [
    "train['is_click'].value_counts()/len(train)"
   ]
  },
  {
   "cell_type": "code",
   "execution_count": 17,
   "metadata": {},
   "outputs": [],
   "source": [
    "train['impression_time'] = pd.to_datetime(train['impression_time'])"
   ]
  },
  {
   "cell_type": "code",
   "execution_count": 18,
   "metadata": {},
   "outputs": [
    {
     "data": {
      "image/png": "[encoded data removed]",
      "text/plain": [
       "<Figure size 864x432 with 1 Axes>"
      ]
     },
     "metadata": {
      "needs_background": "light"
     },
     "output_type": "display_data"
    }
   ],
   "source": [
    "train.groupby('impression_time').agg({'is_click':'sum'}).plot(figsize=(12,6))\n",
    "plt.ylabel('Number of clicks')\n",
    "plt.title('Number of clicks by impression time');"
   ]
  },
  {
   "cell_type": "code",
   "execution_count": 19,
   "metadata": {},
   "outputs": [
    {
     "data": {
      "image/png": "[encoded data removed]",
      "text/plain": [
       "<Figure size 864x432 with 1 Axes>"
      ]
     },
     "metadata": {
      "needs_background": "light"
     },
     "output_type": "display_data"
    }
   ],
   "source": [
    "train['day_of_month'] = train['impression_time'].apply(lambda x: x.day)\n",
    "train.groupby('day_of_month').agg({'is_click':'sum'}).plot(figsize=(12,6))\n",
    "plt.ylabel('Number of clicks')\n",
    "plt.title('Number of clicks by date');"
   ]
  },
  {
   "cell_type": "code",
   "execution_count": 20,
   "metadata": {},
   "outputs": [
    {
     "data": {
      "image/png": "[encoded data removed]",
      "text/plain": [
       "<Figure size 864x432 with 1 Axes>"
      ]
     },
     "metadata": {
      "needs_background": "light"
     },
     "output_type": "display_data"
    }
   ],
   "source": [
    "train['hour_of_day'] = train['impression_time'].apply(lambda x: x.hour)\n",
    "train.groupby('hour_of_day').agg({'is_click':'sum'}).plot(figsize=(12,6))\n",
    "plt.ylabel('Number of clicks')\n",
    "plt.title('click trends by hour of day');"
   ]
  },
  {
   "cell_type": "code",
   "execution_count": 21,
   "metadata": {},
   "outputs": [
    {
     "data": {
      "image/png": "[encoded data removed]",
      "text/plain": [
       "<Figure size 864x432 with 1 Axes>"
      ]
     },
     "metadata": {
      "needs_background": "light"
     },
     "output_type": "display_data"
    }
   ],
   "source": [
    "train.groupby(['hour_of_day', 'is_click']).size().unstack().plot(kind='bar', title=\"Hour of Day\", figsize=(12,6))\n",
    "plt.ylabel('count')\n",
    "plt.title('Hourly impressions vs. clicks');"
   ]
  },
  {
   "cell_type": "code",
   "execution_count": 22,
   "metadata": {},
   "outputs": [
    {
     "data": {
      "image/png": "[encoded data removed]",
      "text/plain": [
       "<Figure size 864x432 with 1 Axes>"
      ]
     },
     "metadata": {
      "needs_background": "light"
     },
     "output_type": "display_data"
    }
   ],
   "source": [
    "df_click = train[train['is_click'] == 1]\n",
    "df_hour = train[['hour_of_day','is_click']].groupby(['hour_of_day']).count().reset_index()\n",
    "df_hour = df_hour.rename(columns={'is_click': 'impressions'})\n",
    "df_hour['clicks'] = df_click[['hour_of_day','is_click']].groupby(['hour_of_day']).count().reset_index()['is_click']\n",
    "df_hour['CTR'] = df_hour['clicks']/df_hour['impressions']*100\n",
    "plt.figure(figsize=(12,6))\n",
    "sns.barplot(y='CTR', x='hour_of_day', data=df_hour)\n",
    "plt.title('Hourly CTR');"
   ]
  },
  {
   "cell_type": "code",
   "execution_count": 23,
   "metadata": {},
   "outputs": [
    {
     "data": {
      "image/png": "[encoded data removed]",
      "text/plain": [
       "<Figure size 864x432 with 1 Axes>"
      ]
     },
     "metadata": {
      "needs_background": "light"
     },
     "output_type": "display_data"
    }
   ],
   "source": [
    "train['day_of_week'] = train['impression_time'].apply(lambda val: val.weekday_name)\n",
    "cats = ['Monday', 'Tuesday', 'Wednesday', 'Thursday', 'Friday', 'Saturday', 'Sunday']\n",
    "train.groupby('day_of_week').agg({'is_click':'sum'}).reindex(cats).plot(figsize=(12,6))\n",
    "ticks = list(range(0, 7, 1)) # points on the x axis where you want the label to appear\n",
    "labels = \"Mon Tues Weds Thurs Fri Sat Sun\".split()\n",
    "plt.xticks(ticks, labels)\n",
    "plt.title('click trends by day of week');"
   ]
  },
  {
   "cell_type": "code",
   "execution_count": 24,
   "metadata": {},
   "outputs": [
    {
     "data": {
      "image/png": "[encoded data removed]",
      "text/plain": [
       "<Figure size 864x432 with 1 Axes>"
      ]
     },
     "metadata": {
      "needs_background": "light"
     },
     "output_type": "display_data"
    }
   ],
   "source": [
    "train.groupby(['day_of_week','is_click']).size().unstack().reindex(cats).plot(kind='bar', title=\"Day of the Week\", figsize=(12,6))\n",
    "ticks = list(range(0, 7, 1)) # points on the x axis where you want the label to appear\n",
    "labels = \"Mon Tues Weds Thurs Fri Sat Sun\".split()\n",
    "plt.xticks(ticks, labels)\n",
    "plt.title('Impressions vs. clicks by day of week');"
   ]
  },
  {
   "cell_type": "code",
   "execution_count": 25,
   "metadata": {},
   "outputs": [
    {
     "data": {
      "image/png": "[encoded data removed]",
      "text/plain": [
       "<Figure size 864x432 with 1 Axes>"
      ]
     },
     "metadata": {
      "needs_background": "light"
     },
     "output_type": "display_data"
    }
   ],
   "source": [
    "df_click = train[train['is_click'] == 1]\n",
    "df_dayofweek = train[['day_of_week','is_click']].groupby(['day_of_week']).count().reset_index()\n",
    "df_dayofweek = df_dayofweek.rename(columns={'is_click': 'impressions'})\n",
    "df_dayofweek['clicks'] = df_click[['day_of_week','is_click']].groupby(['day_of_week']).count().reset_index()['is_click']\n",
    "df_dayofweek['CTR'] = df_dayofweek['clicks']/df_dayofweek['impressions']*100\n",
    "plt.figure(figsize=(12,6))\n",
    "sns.barplot(y='CTR', x='day_of_week', data=df_dayofweek, order=['Monday', 'Tuesday', 'Wednesday', 'Thursday', 'Friday', 'Saturday', 'Sunday'])\n",
    "plt.title('Day of week CTR');"
   ]
  },
  {
   "cell_type": "code",
   "execution_count": 26,
   "metadata": {},
   "outputs": [
    {
     "data": {
      "text/plain": [
       "latest          0.543818\n",
       "intermediate    0.233758\n",
       "old             0.222424\n",
       "Name: os_version, dtype: float64"
      ]
     },
     "execution_count": 26,
     "metadata": {},
     "output_type": "execute_result"
    }
   ],
   "source": [
    "train['os_version'].value_counts()/len(train)"
   ]
  },
  {
   "cell_type": "code",
   "execution_count": 27,
   "metadata": {},
   "outputs": [
    {
     "name": "stdout",
     "output_type": "stream",
     "text": [
      "for os_version: intermediate,  click through rate: 0.051761698143780496\n",
      "for os_version: latest,  click through rate: 0.04165118870728083\n",
      "for os_version: old,  click through rate: 0.04929044465468307\n"
     ]
    }
   ],
   "source": [
    "osVersion = train['os_version'].unique()\n",
    "osVersion.sort()\n",
    "ctr_avg_list=[]\n",
    "for i in osVersion:\n",
    "    ctr_avg=train.loc[np.where((train['os_version'] == i))]['is_click'].mean()\n",
    "    ctr_avg_list.append(ctr_avg)\n",
    "    print(\"for os_version: {},  click through rate: {}\".format(i,ctr_avg))"
   ]
  },
  {
   "cell_type": "code",
   "execution_count": 28,
   "metadata": {},
   "outputs": [
    {
     "data": {
      "image/png": "[encoded data removed]",
      "text/plain": [
       "<Figure size 864x432 with 1 Axes>"
      ]
     },
     "metadata": {
      "needs_background": "light"
     },
     "output_type": "display_data"
    }
   ],
   "source": [
    "train.groupby(['os_version', 'is_click']).size().unstack().plot(kind='bar', figsize=(12,6), title='os_version histogram');"
   ]
  },
  {
   "cell_type": "code",
   "execution_count": 29,
   "metadata": {},
   "outputs": [
    {
     "data": {
      "text/plain": [
       "0    0.638688\n",
       "1    0.361312\n",
       "Name: is_4G, dtype: float64"
      ]
     },
     "execution_count": 29,
     "metadata": {},
     "output_type": "execute_result"
    }
   ],
   "source": [
    "train['is_4G'].value_counts()/len(train)"
   ]
  },
  {
   "cell_type": "code",
   "execution_count": 30,
   "metadata": {},
   "outputs": [
    {
     "name": "stdout",
     "output_type": "stream",
     "text": [
      "for is_4G: 0,  click through rate: 0.04625785790534931\n",
      "for is_4G: 1,  click through rate: 0.04475195396675636\n"
     ]
    }
   ],
   "source": [
    "is4G = train['is_4G'].unique()\n",
    "is4G.sort()\n",
    "ctr_avg_list=[]\n",
    "for i in is4G:\n",
    "    ctr_avg=train.loc[np.where((train['is_4G'] == i))]['is_click'].mean()\n",
    "    ctr_avg_list.append(ctr_avg)\n",
    "    print(\"for is_4G: {},  click through rate: {}\".format(i,ctr_avg))"
   ]
  },
  {
   "cell_type": "code",
   "execution_count": 31,
   "metadata": {},
   "outputs": [
    {
     "data": {
      "image/png": "[encoded data removed]",
      "text/plain": [
       "<Figure size 864x432 with 1 Axes>"
      ]
     },
     "metadata": {
      "needs_background": "light"
     },
     "output_type": "display_data"
    }
   ],
   "source": [
    "train.groupby(['is_4G', 'is_click']).size().unstack().plot(kind='bar', figsize=(12,6), title='is_4G histogram');"
   ]
  },
  {
   "cell_type": "code",
   "execution_count": 32,
   "metadata": {},
   "outputs": [
    {
     "data": {
      "text/html": [
       "<div>\n",
       "<style scoped>\n",
       "    .dataframe tbody tr th:only-of-type {\n",
       "        vertical-align: middle;\n",
       "    }\n",
       "\n",
       "    .dataframe tbody tr th {\n",
       "        vertical-align: top;\n",
       "    }\n",
       "\n",
       "    .dataframe thead th {\n",
       "        text-align: right;\n",
       "    }\n",
       "</style>\n",
       "<table border=\"1\" class=\"dataframe\">\n",
       "  <thead>\n",
       "    <tr style=\"text-align: right;\">\n",
       "      <th></th>\n",
       "      <th>impression_id</th>\n",
       "      <th>impression_time</th>\n",
       "      <th>user_id</th>\n",
       "      <th>app_code</th>\n",
       "      <th>os_version</th>\n",
       "      <th>is_4G</th>\n",
       "      <th>is_click</th>\n",
       "      <th>day_of_month</th>\n",
       "      <th>hour_of_day</th>\n",
       "      <th>day_of_week</th>\n",
       "    </tr>\n",
       "  </thead>\n",
       "  <tbody>\n",
       "    <tr>\n",
       "      <th>0</th>\n",
       "      <td>c4ca4238a0b923820dcc509a6f75849b</td>\n",
       "      <td>2018-11-15 00:00:00</td>\n",
       "      <td>87862</td>\n",
       "      <td>422</td>\n",
       "      <td>old</td>\n",
       "      <td>0</td>\n",
       "      <td>0</td>\n",
       "      <td>15</td>\n",
       "      <td>0</td>\n",
       "      <td>Thursday</td>\n",
       "    </tr>\n",
       "    <tr>\n",
       "      <th>1</th>\n",
       "      <td>45c48cce2e2d7fbdea1afc51c7c6ad26</td>\n",
       "      <td>2018-11-15 00:01:00</td>\n",
       "      <td>63410</td>\n",
       "      <td>467</td>\n",
       "      <td>latest</td>\n",
       "      <td>1</td>\n",
       "      <td>1</td>\n",
       "      <td>15</td>\n",
       "      <td>0</td>\n",
       "      <td>Thursday</td>\n",
       "    </tr>\n",
       "    <tr>\n",
       "      <th>2</th>\n",
       "      <td>70efdf2ec9b086079795c442636b55fb</td>\n",
       "      <td>2018-11-15 00:02:00</td>\n",
       "      <td>71748</td>\n",
       "      <td>259</td>\n",
       "      <td>intermediate</td>\n",
       "      <td>1</td>\n",
       "      <td>0</td>\n",
       "      <td>15</td>\n",
       "      <td>0</td>\n",
       "      <td>Thursday</td>\n",
       "    </tr>\n",
       "    <tr>\n",
       "      <th>3</th>\n",
       "      <td>8e296a067a37563370ded05f5a3bf3ec</td>\n",
       "      <td>2018-11-15 00:02:00</td>\n",
       "      <td>69209</td>\n",
       "      <td>244</td>\n",
       "      <td>latest</td>\n",
       "      <td>1</td>\n",
       "      <td>0</td>\n",
       "      <td>15</td>\n",
       "      <td>0</td>\n",
       "      <td>Thursday</td>\n",
       "    </tr>\n",
       "    <tr>\n",
       "      <th>4</th>\n",
       "      <td>182be0c5cdcd5072bb1864cdee4d3d6e</td>\n",
       "      <td>2018-11-15 00:02:00</td>\n",
       "      <td>62873</td>\n",
       "      <td>473</td>\n",
       "      <td>latest</td>\n",
       "      <td>0</td>\n",
       "      <td>0</td>\n",
       "      <td>15</td>\n",
       "      <td>0</td>\n",
       "      <td>Thursday</td>\n",
       "    </tr>\n",
       "  </tbody>\n",
       "</table>\n",
       "</div>"
      ],
      "text/plain": [
       "                      impression_id     impression_time  user_id  app_code  \\\n",
       "0  c4ca4238a0b923820dcc509a6f75849b 2018-11-15 00:00:00    87862       422   \n",
       "1  45c48cce2e2d7fbdea1afc51c7c6ad26 2018-11-15 00:01:00    63410       467   \n",
       "2  70efdf2ec9b086079795c442636b55fb 2018-11-15 00:02:00    71748       259   \n",
       "3  8e296a067a37563370ded05f5a3bf3ec 2018-11-15 00:02:00    69209       244   \n",
       "4  182be0c5cdcd5072bb1864cdee4d3d6e 2018-11-15 00:02:00    62873       473   \n",
       "\n",
       "     os_version  is_4G  is_click  day_of_month  hour_of_day day_of_week  \n",
       "0           old      0         0            15            0    Thursday  \n",
       "1        latest      1         1            15            0    Thursday  \n",
       "2  intermediate      1         0            15            0    Thursday  \n",
       "3        latest      1         0            15            0    Thursday  \n",
       "4        latest      0         0            15            0    Thursday  "
      ]
     },
     "execution_count": 32,
     "metadata": {},
     "output_type": "execute_result"
    }
   ],
   "source": [
    "train.head(5)"
   ]
  },
  {
   "cell_type": "code",
   "execution_count": 33,
   "metadata": {},
   "outputs": [],
   "source": [
    "train.drop(['day_of_month','hour_of_day','day_of_week'], axis=1, inplace=True)"
   ]
  },
  {
   "cell_type": "markdown",
   "metadata": {},
   "source": [
    "### Data pre-processing"
   ]
  },
  {
   "cell_type": "code",
   "execution_count": 34,
   "metadata": {},
   "outputs": [
    {
     "data": {
      "text/plain": [
       "(328284, 7)"
      ]
     },
     "execution_count": 34,
     "metadata": {},
     "output_type": "execute_result"
    }
   ],
   "source": [
    "df = train.append(test, ignore_index=True, sort=False)\n",
    "df.shape"
   ]
  },
  {
   "cell_type": "code",
   "execution_count": 35,
   "metadata": {},
   "outputs": [
    {
     "data": {
      "text/html": [
       "<div>\n",
       "<style scoped>\n",
       "    .dataframe tbody tr th:only-of-type {\n",
       "        vertical-align: middle;\n",
       "    }\n",
       "\n",
       "    .dataframe tbody tr th {\n",
       "        vertical-align: top;\n",
       "    }\n",
       "\n",
       "    .dataframe thead th {\n",
       "        text-align: right;\n",
       "    }\n",
       "</style>\n",
       "<table border=\"1\" class=\"dataframe\">\n",
       "  <thead>\n",
       "    <tr style=\"text-align: right;\">\n",
       "      <th></th>\n",
       "      <th>impression_id</th>\n",
       "      <th>impression_time</th>\n",
       "      <th>user_id</th>\n",
       "      <th>app_code</th>\n",
       "      <th>os_version</th>\n",
       "      <th>is_4G</th>\n",
       "      <th>is_click</th>\n",
       "    </tr>\n",
       "  </thead>\n",
       "  <tbody>\n",
       "    <tr>\n",
       "      <th>0</th>\n",
       "      <td>c4ca4238a0b923820dcc509a6f75849b</td>\n",
       "      <td>2018-11-15 00:00:00</td>\n",
       "      <td>87862</td>\n",
       "      <td>422</td>\n",
       "      <td>old</td>\n",
       "      <td>0</td>\n",
       "      <td>0.0</td>\n",
       "    </tr>\n",
       "    <tr>\n",
       "      <th>1</th>\n",
       "      <td>45c48cce2e2d7fbdea1afc51c7c6ad26</td>\n",
       "      <td>2018-11-15 00:01:00</td>\n",
       "      <td>63410</td>\n",
       "      <td>467</td>\n",
       "      <td>latest</td>\n",
       "      <td>1</td>\n",
       "      <td>1.0</td>\n",
       "    </tr>\n",
       "  </tbody>\n",
       "</table>\n",
       "</div>"
      ],
      "text/plain": [
       "                      impression_id      impression_time  user_id  app_code  \\\n",
       "0  c4ca4238a0b923820dcc509a6f75849b  2018-11-15 00:00:00    87862       422   \n",
       "1  45c48cce2e2d7fbdea1afc51c7c6ad26  2018-11-15 00:01:00    63410       467   \n",
       "\n",
       "  os_version  is_4G  is_click  \n",
       "0        old      0       0.0  \n",
       "1     latest      1       1.0  "
      ]
     },
     "execution_count": 35,
     "metadata": {},
     "output_type": "execute_result"
    }
   ],
   "source": [
    "df.head(2)"
   ]
  },
  {
   "cell_type": "code",
   "execution_count": 36,
   "metadata": {},
   "outputs": [],
   "source": [
    "calc = df.groupby(['user_id'], axis=0).agg({'app_code': 'count'}).reset_index()\n",
    "calc.columns = ['user_id','app_code_count_by_user_id']\n",
    "df = df.merge(calc, on=['user_id'],how='left')\n",
    "\n",
    "calc = df.groupby(['user_id'], axis=0).agg({'is_4G': 'sum'}).reset_index()\n",
    "calc.columns = ['user_id','is_4G_count_by_user_id']\n",
    "df = df.merge(calc, on=['user_id'],how='left')"
   ]
  },
  {
   "cell_type": "code",
   "execution_count": 37,
   "metadata": {},
   "outputs": [
    {
     "data": {
      "text/html": [
       "<div>\n",
       "<style scoped>\n",
       "    .dataframe tbody tr th:only-of-type {\n",
       "        vertical-align: middle;\n",
       "    }\n",
       "\n",
       "    .dataframe tbody tr th {\n",
       "        vertical-align: top;\n",
       "    }\n",
       "\n",
       "    .dataframe thead th {\n",
       "        text-align: right;\n",
       "    }\n",
       "</style>\n",
       "<table border=\"1\" class=\"dataframe\">\n",
       "  <thead>\n",
       "    <tr style=\"text-align: right;\">\n",
       "      <th></th>\n",
       "      <th>impression_id</th>\n",
       "      <th>impression_time</th>\n",
       "      <th>user_id</th>\n",
       "      <th>app_code</th>\n",
       "      <th>os_version</th>\n",
       "      <th>is_4G</th>\n",
       "      <th>is_click</th>\n",
       "      <th>app_code_count_by_user_id</th>\n",
       "      <th>is_4G_count_by_user_id</th>\n",
       "    </tr>\n",
       "  </thead>\n",
       "  <tbody>\n",
       "    <tr>\n",
       "      <th>0</th>\n",
       "      <td>c4ca4238a0b923820dcc509a6f75849b</td>\n",
       "      <td>2018-11-15 00:00:00</td>\n",
       "      <td>87862</td>\n",
       "      <td>422</td>\n",
       "      <td>old</td>\n",
       "      <td>0</td>\n",
       "      <td>0.0</td>\n",
       "      <td>3</td>\n",
       "      <td>0</td>\n",
       "    </tr>\n",
       "    <tr>\n",
       "      <th>1</th>\n",
       "      <td>45c48cce2e2d7fbdea1afc51c7c6ad26</td>\n",
       "      <td>2018-11-15 00:01:00</td>\n",
       "      <td>63410</td>\n",
       "      <td>467</td>\n",
       "      <td>latest</td>\n",
       "      <td>1</td>\n",
       "      <td>1.0</td>\n",
       "      <td>61</td>\n",
       "      <td>61</td>\n",
       "    </tr>\n",
       "  </tbody>\n",
       "</table>\n",
       "</div>"
      ],
      "text/plain": [
       "                      impression_id      impression_time  user_id  app_code  \\\n",
       "0  c4ca4238a0b923820dcc509a6f75849b  2018-11-15 00:00:00    87862       422   \n",
       "1  45c48cce2e2d7fbdea1afc51c7c6ad26  2018-11-15 00:01:00    63410       467   \n",
       "\n",
       "  os_version  is_4G  is_click  app_code_count_by_user_id  \\\n",
       "0        old      0       0.0                          3   \n",
       "1     latest      1       1.0                         61   \n",
       "\n",
       "   is_4G_count_by_user_id  \n",
       "0                       0  \n",
       "1                      61  "
      ]
     },
     "execution_count": 37,
     "metadata": {},
     "output_type": "execute_result"
    }
   ],
   "source": [
    "df.head(2)"
   ]
  },
  {
   "cell_type": "code",
   "execution_count": 38,
   "metadata": {},
   "outputs": [],
   "source": [
    "df = pd.get_dummies(df, columns=['app_code', 'os_version'], drop_first=True)"
   ]
  },
  {
   "cell_type": "code",
   "execution_count": 39,
   "metadata": {},
   "outputs": [
    {
     "data": {
      "text/html": [
       "<div>\n",
       "<style scoped>\n",
       "    .dataframe tbody tr th:only-of-type {\n",
       "        vertical-align: middle;\n",
       "    }\n",
       "\n",
       "    .dataframe tbody tr th {\n",
       "        vertical-align: top;\n",
       "    }\n",
       "\n",
       "    .dataframe thead th {\n",
       "        text-align: right;\n",
       "    }\n",
       "</style>\n",
       "<table border=\"1\" class=\"dataframe\">\n",
       "  <thead>\n",
       "    <tr style=\"text-align: right;\">\n",
       "      <th></th>\n",
       "      <th>item_id</th>\n",
       "      <th>item_price</th>\n",
       "      <th>category_1</th>\n",
       "      <th>category_2</th>\n",
       "      <th>category_3</th>\n",
       "      <th>product_type</th>\n",
       "    </tr>\n",
       "  </thead>\n",
       "  <tbody>\n",
       "    <tr>\n",
       "      <th>0</th>\n",
       "      <td>26880</td>\n",
       "      <td>4602</td>\n",
       "      <td>11</td>\n",
       "      <td>35</td>\n",
       "      <td>20</td>\n",
       "      <td>3040</td>\n",
       "    </tr>\n",
       "    <tr>\n",
       "      <th>1</th>\n",
       "      <td>54939</td>\n",
       "      <td>3513</td>\n",
       "      <td>12</td>\n",
       "      <td>57</td>\n",
       "      <td>85</td>\n",
       "      <td>6822</td>\n",
       "    </tr>\n",
       "  </tbody>\n",
       "</table>\n",
       "</div>"
      ],
      "text/plain": [
       "   item_id  item_price  category_1  category_2  category_3  product_type\n",
       "0    26880        4602          11          35          20          3040\n",
       "1    54939        3513          12          57          85          6822"
      ]
     },
     "execution_count": 39,
     "metadata": {},
     "output_type": "execute_result"
    }
   ],
   "source": [
    "item.head(2)"
   ]
  },
  {
   "cell_type": "code",
   "execution_count": 40,
   "metadata": {},
   "outputs": [
    {
     "data": {
      "text/html": [
       "<div>\n",
       "<style scoped>\n",
       "    .dataframe tbody tr th:only-of-type {\n",
       "        vertical-align: middle;\n",
       "    }\n",
       "\n",
       "    .dataframe tbody tr th {\n",
       "        vertical-align: top;\n",
       "    }\n",
       "\n",
       "    .dataframe thead th {\n",
       "        text-align: right;\n",
       "    }\n",
       "</style>\n",
       "<table border=\"1\" class=\"dataframe\">\n",
       "  <thead>\n",
       "    <tr style=\"text-align: right;\">\n",
       "      <th></th>\n",
       "      <th>server_time</th>\n",
       "      <th>device_type</th>\n",
       "      <th>session_id</th>\n",
       "      <th>user_id</th>\n",
       "      <th>item_id</th>\n",
       "    </tr>\n",
       "  </thead>\n",
       "  <tbody>\n",
       "    <tr>\n",
       "      <th>0</th>\n",
       "      <td>2018-10-15 08:58:00</td>\n",
       "      <td>android</td>\n",
       "      <td>112333</td>\n",
       "      <td>4557</td>\n",
       "      <td>32970</td>\n",
       "    </tr>\n",
       "    <tr>\n",
       "      <th>1</th>\n",
       "      <td>2018-10-15 08:58:00</td>\n",
       "      <td>android</td>\n",
       "      <td>503590</td>\n",
       "      <td>74788</td>\n",
       "      <td>7640</td>\n",
       "    </tr>\n",
       "  </tbody>\n",
       "</table>\n",
       "</div>"
      ],
      "text/plain": [
       "           server_time device_type  session_id  user_id  item_id\n",
       "0  2018-10-15 08:58:00     android      112333     4557    32970\n",
       "1  2018-10-15 08:58:00     android      503590    74788     7640"
      ]
     },
     "execution_count": 40,
     "metadata": {},
     "output_type": "execute_result"
    }
   ],
   "source": [
    "view.head(2)"
   ]
  },
  {
   "cell_type": "code",
   "execution_count": 41,
   "metadata": {},
   "outputs": [
    {
     "data": {
      "text/html": [
       "<div>\n",
       "<style scoped>\n",
       "    .dataframe tbody tr th:only-of-type {\n",
       "        vertical-align: middle;\n",
       "    }\n",
       "\n",
       "    .dataframe tbody tr th {\n",
       "        vertical-align: top;\n",
       "    }\n",
       "\n",
       "    .dataframe thead th {\n",
       "        text-align: right;\n",
       "    }\n",
       "</style>\n",
       "<table border=\"1\" class=\"dataframe\">\n",
       "  <thead>\n",
       "    <tr style=\"text-align: right;\">\n",
       "      <th></th>\n",
       "      <th>server_time</th>\n",
       "      <th>device_type</th>\n",
       "      <th>session_id</th>\n",
       "      <th>user_id</th>\n",
       "      <th>item_id</th>\n",
       "      <th>item_price</th>\n",
       "      <th>category_1</th>\n",
       "      <th>category_2</th>\n",
       "      <th>category_3</th>\n",
       "      <th>product_type</th>\n",
       "    </tr>\n",
       "  </thead>\n",
       "  <tbody>\n",
       "    <tr>\n",
       "      <th>0</th>\n",
       "      <td>2018-10-15 08:58:00</td>\n",
       "      <td>android</td>\n",
       "      <td>112333</td>\n",
       "      <td>4557</td>\n",
       "      <td>32970</td>\n",
       "      <td>54685.0</td>\n",
       "      <td>16.0</td>\n",
       "      <td>56.0</td>\n",
       "      <td>253.0</td>\n",
       "      <td>3184.0</td>\n",
       "    </tr>\n",
       "    <tr>\n",
       "      <th>1</th>\n",
       "      <td>2018-10-15 08:58:00</td>\n",
       "      <td>android</td>\n",
       "      <td>503590</td>\n",
       "      <td>74788</td>\n",
       "      <td>7640</td>\n",
       "      <td>1376.0</td>\n",
       "      <td>7.0</td>\n",
       "      <td>71.0</td>\n",
       "      <td>228.0</td>\n",
       "      <td>545.0</td>\n",
       "    </tr>\n",
       "  </tbody>\n",
       "</table>\n",
       "</div>"
      ],
      "text/plain": [
       "           server_time device_type  session_id  user_id  item_id  item_price  \\\n",
       "0  2018-10-15 08:58:00     android      112333     4557    32970     54685.0   \n",
       "1  2018-10-15 08:58:00     android      503590    74788     7640      1376.0   \n",
       "\n",
       "   category_1  category_2  category_3  product_type  \n",
       "0        16.0        56.0       253.0        3184.0  \n",
       "1         7.0        71.0       228.0         545.0  "
      ]
     },
     "execution_count": 41,
     "metadata": {},
     "output_type": "execute_result"
    }
   ],
   "source": [
    "view_item = view.merge(item, how='left', on='item_id')\n",
    "view_item.head(2)"
   ]
  },
  {
   "cell_type": "code",
   "execution_count": 42,
   "metadata": {},
   "outputs": [
    {
     "data": {
      "text/plain": [
       "(3118622, 10)"
      ]
     },
     "execution_count": 42,
     "metadata": {},
     "output_type": "execute_result"
    }
   ],
   "source": [
    "view_item.shape"
   ]
  },
  {
   "cell_type": "code",
   "execution_count": 43,
   "metadata": {},
   "outputs": [],
   "source": [
    "view_item = pd.get_dummies(view_item, columns=['device_type','category_1'], drop_first=True)"
   ]
  },
  {
   "cell_type": "code",
   "execution_count": 44,
   "metadata": {},
   "outputs": [
    {
     "data": {
      "text/plain": [
       "Index(['server_time', 'session_id', 'user_id', 'item_id', 'item_price',\n",
       "       'category_2', 'category_3', 'product_type', 'device_type_iphone',\n",
       "       'device_type_web', 'category_1_1.0', 'category_1_2.0', 'category_1_4.0',\n",
       "       'category_1_5.0', 'category_1_6.0', 'category_1_7.0', 'category_1_8.0',\n",
       "       'category_1_9.0', 'category_1_10.0', 'category_1_11.0',\n",
       "       'category_1_12.0', 'category_1_13.0', 'category_1_14.0',\n",
       "       'category_1_15.0', 'category_1_16.0', 'category_1_17.0'],\n",
       "      dtype='object')"
      ]
     },
     "execution_count": 44,
     "metadata": {},
     "output_type": "execute_result"
    }
   ],
   "source": [
    "view_item.columns"
   ]
  },
  {
   "cell_type": "code",
   "execution_count": 45,
   "metadata": {},
   "outputs": [],
   "source": [
    "agg_func = {\n",
    "    'device_type_iphone': ['max'],\n",
    "    'device_type_web': ['max'],\n",
    "    'item_id': ['count'],\n",
    "    'item_price': ['sum', 'mean'],\n",
    "    'category_1_1.0': ['min','max','count','mean','sum'],\n",
    "    'category_1_2.0': ['min','max','count','mean','sum'],\n",
    "    'category_1_4.0': ['min','max','count','mean','sum'],\n",
    "    'category_1_5.0': ['min','max','count','mean','sum'],\n",
    "    'category_1_6.0': ['min','max','count','mean','sum'],\n",
    "    'category_1_7.0': ['min','max','count','mean','sum'],\n",
    "    'category_1_8.0': ['min','max','count','mean','sum'],\n",
    "    'category_1_9.0': ['min','max','count','mean','sum'],\n",
    "    'category_1_10.0': ['min','max','count','mean','sum'],\n",
    "    'category_1_11.0': ['min','max','count','mean','sum'],\n",
    "    'category_1_12.0': ['min','max','count','mean','sum'],\n",
    "    'category_1_13.0': ['min','max','count','mean','sum'],\n",
    "    'category_1_14.0': ['min','max','count','mean','sum'],\n",
    "    'category_1_15.0': ['min','max','count','mean','sum'],\n",
    "    'category_1_16.0': ['min','max','count','mean','sum'],\n",
    "    'category_1_17.0': ['min','max','count','mean','sum'],\n",
    "    'category_2': ['min', 'max', 'count', 'mean'],\n",
    "    'category_3': ['min', 'max', 'count', 'mean'],\n",
    "    'product_type': ['min', 'max', 'count']\n",
    "}"
   ]
  },
  {
   "cell_type": "code",
   "execution_count": 46,
   "metadata": {},
   "outputs": [],
   "source": [
    "view_item1 = view_item.groupby('user_id').agg(agg_func)"
   ]
  },
  {
   "cell_type": "code",
   "execution_count": 47,
   "metadata": {},
   "outputs": [
    {
     "data": {
      "text/html": [
       "<div>\n",
       "<style scoped>\n",
       "    .dataframe tbody tr th:only-of-type {\n",
       "        vertical-align: middle;\n",
       "    }\n",
       "\n",
       "    .dataframe tbody tr th {\n",
       "        vertical-align: top;\n",
       "    }\n",
       "\n",
       "    .dataframe thead th {\n",
       "        text-align: right;\n",
       "    }\n",
       "</style>\n",
       "<table border=\"1\" class=\"dataframe\">\n",
       "  <thead>\n",
       "    <tr style=\"text-align: right;\">\n",
       "      <th></th>\n",
       "      <th>user_id</th>\n",
       "      <th>J_device_type_iphone_max</th>\n",
       "      <th>J_device_type_web_max</th>\n",
       "      <th>J_item_id_count</th>\n",
       "      <th>J_item_price_sum</th>\n",
       "      <th>J_item_price_mean</th>\n",
       "      <th>J_category_1_1.0_min</th>\n",
       "      <th>J_category_1_1.0_max</th>\n",
       "      <th>J_category_1_1.0_count</th>\n",
       "      <th>J_category_1_1.0_mean</th>\n",
       "      <th>...</th>\n",
       "      <th>J_category_2_max</th>\n",
       "      <th>J_category_2_count</th>\n",
       "      <th>J_category_2_mean</th>\n",
       "      <th>J_category_3_min</th>\n",
       "      <th>J_category_3_max</th>\n",
       "      <th>J_category_3_count</th>\n",
       "      <th>J_category_3_mean</th>\n",
       "      <th>J_product_type_min</th>\n",
       "      <th>J_product_type_max</th>\n",
       "      <th>J_product_type_count</th>\n",
       "    </tr>\n",
       "  </thead>\n",
       "  <tbody>\n",
       "    <tr>\n",
       "      <th>0</th>\n",
       "      <td>0</td>\n",
       "      <td>0</td>\n",
       "      <td>0</td>\n",
       "      <td>42</td>\n",
       "      <td>394618.0</td>\n",
       "      <td>9395.666667</td>\n",
       "      <td>0</td>\n",
       "      <td>1</td>\n",
       "      <td>42</td>\n",
       "      <td>0.166667</td>\n",
       "      <td>...</td>\n",
       "      <td>79.0</td>\n",
       "      <td>42</td>\n",
       "      <td>36.214286</td>\n",
       "      <td>30.0</td>\n",
       "      <td>308.0</td>\n",
       "      <td>42</td>\n",
       "      <td>171.571429</td>\n",
       "      <td>60.0</td>\n",
       "      <td>10457.0</td>\n",
       "      <td>42</td>\n",
       "    </tr>\n",
       "    <tr>\n",
       "      <th>1</th>\n",
       "      <td>1</td>\n",
       "      <td>0</td>\n",
       "      <td>0</td>\n",
       "      <td>8</td>\n",
       "      <td>31574.0</td>\n",
       "      <td>3946.750000</td>\n",
       "      <td>0</td>\n",
       "      <td>0</td>\n",
       "      <td>8</td>\n",
       "      <td>0.000000</td>\n",
       "      <td>...</td>\n",
       "      <td>78.0</td>\n",
       "      <td>8</td>\n",
       "      <td>44.625000</td>\n",
       "      <td>44.0</td>\n",
       "      <td>277.0</td>\n",
       "      <td>8</td>\n",
       "      <td>143.375000</td>\n",
       "      <td>3303.0</td>\n",
       "      <td>10112.0</td>\n",
       "      <td>8</td>\n",
       "    </tr>\n",
       "    <tr>\n",
       "      <th>2</th>\n",
       "      <td>2</td>\n",
       "      <td>0</td>\n",
       "      <td>0</td>\n",
       "      <td>165</td>\n",
       "      <td>2443569.0</td>\n",
       "      <td>14809.509091</td>\n",
       "      <td>0</td>\n",
       "      <td>1</td>\n",
       "      <td>165</td>\n",
       "      <td>0.187879</td>\n",
       "      <td>...</td>\n",
       "      <td>78.0</td>\n",
       "      <td>165</td>\n",
       "      <td>37.654545</td>\n",
       "      <td>4.0</td>\n",
       "      <td>336.0</td>\n",
       "      <td>165</td>\n",
       "      <td>183.854545</td>\n",
       "      <td>20.0</td>\n",
       "      <td>10561.0</td>\n",
       "      <td>165</td>\n",
       "    </tr>\n",
       "    <tr>\n",
       "      <th>3</th>\n",
       "      <td>3</td>\n",
       "      <td>0</td>\n",
       "      <td>0</td>\n",
       "      <td>8</td>\n",
       "      <td>58059.0</td>\n",
       "      <td>7257.375000</td>\n",
       "      <td>0</td>\n",
       "      <td>1</td>\n",
       "      <td>8</td>\n",
       "      <td>0.375000</td>\n",
       "      <td>...</td>\n",
       "      <td>62.0</td>\n",
       "      <td>8</td>\n",
       "      <td>40.500000</td>\n",
       "      <td>50.0</td>\n",
       "      <td>157.0</td>\n",
       "      <td>8</td>\n",
       "      <td>113.375000</td>\n",
       "      <td>491.0</td>\n",
       "      <td>6659.0</td>\n",
       "      <td>8</td>\n",
       "    </tr>\n",
       "    <tr>\n",
       "      <th>4</th>\n",
       "      <td>4</td>\n",
       "      <td>0</td>\n",
       "      <td>0</td>\n",
       "      <td>2</td>\n",
       "      <td>60229.0</td>\n",
       "      <td>30114.500000</td>\n",
       "      <td>0</td>\n",
       "      <td>0</td>\n",
       "      <td>2</td>\n",
       "      <td>0.000000</td>\n",
       "      <td>...</td>\n",
       "      <td>61.0</td>\n",
       "      <td>2</td>\n",
       "      <td>32.000000</td>\n",
       "      <td>27.0</td>\n",
       "      <td>159.0</td>\n",
       "      <td>2</td>\n",
       "      <td>93.000000</td>\n",
       "      <td>234.0</td>\n",
       "      <td>4426.0</td>\n",
       "      <td>2</td>\n",
       "    </tr>\n",
       "  </tbody>\n",
       "</table>\n",
       "<p>5 rows × 97 columns</p>\n",
       "</div>"
      ],
      "text/plain": [
       "   user_id  J_device_type_iphone_max  J_device_type_web_max  J_item_id_count  \\\n",
       "0        0                         0                      0               42   \n",
       "1        1                         0                      0                8   \n",
       "2        2                         0                      0              165   \n",
       "3        3                         0                      0                8   \n",
       "4        4                         0                      0                2   \n",
       "\n",
       "   J_item_price_sum  J_item_price_mean  J_category_1_1.0_min  \\\n",
       "0          394618.0        9395.666667                     0   \n",
       "1           31574.0        3946.750000                     0   \n",
       "2         2443569.0       14809.509091                     0   \n",
       "3           58059.0        7257.375000                     0   \n",
       "4           60229.0       30114.500000                     0   \n",
       "\n",
       "   J_category_1_1.0_max  J_category_1_1.0_count  J_category_1_1.0_mean  \\\n",
       "0                     1                      42               0.166667   \n",
       "1                     0                       8               0.000000   \n",
       "2                     1                     165               0.187879   \n",
       "3                     1                       8               0.375000   \n",
       "4                     0                       2               0.000000   \n",
       "\n",
       "           ...           J_category_2_max  J_category_2_count  \\\n",
       "0          ...                       79.0                  42   \n",
       "1          ...                       78.0                   8   \n",
       "2          ...                       78.0                 165   \n",
       "3          ...                       62.0                   8   \n",
       "4          ...                       61.0                   2   \n",
       "\n",
       "   J_category_2_mean  J_category_3_min  J_category_3_max  J_category_3_count  \\\n",
       "0          36.214286              30.0             308.0                  42   \n",
       "1          44.625000              44.0             277.0                   8   \n",
       "2          37.654545               4.0             336.0                 165   \n",
       "3          40.500000              50.0             157.0                   8   \n",
       "4          32.000000              27.0             159.0                   2   \n",
       "\n",
       "   J_category_3_mean  J_product_type_min  J_product_type_max  \\\n",
       "0         171.571429                60.0             10457.0   \n",
       "1         143.375000              3303.0             10112.0   \n",
       "2         183.854545                20.0             10561.0   \n",
       "3         113.375000               491.0              6659.0   \n",
       "4          93.000000               234.0              4426.0   \n",
       "\n",
       "   J_product_type_count  \n",
       "0                    42  \n",
       "1                     8  \n",
       "2                   165  \n",
       "3                     8  \n",
       "4                     2  \n",
       "\n",
       "[5 rows x 97 columns]"
      ]
     },
     "execution_count": 47,
     "metadata": {},
     "output_type": "execute_result"
    }
   ],
   "source": [
    "view_item1.columns = ['J_' + '_'.join(col).strip() for col in view_item1.columns.values]\n",
    "view_item1.reset_index(inplace=True)\n",
    "view_item1.head()"
   ]
  },
  {
   "cell_type": "code",
   "execution_count": 48,
   "metadata": {},
   "outputs": [
    {
     "data": {
      "text/plain": [
       "(328284, 626)"
      ]
     },
     "execution_count": 48,
     "metadata": {},
     "output_type": "execute_result"
    }
   ],
   "source": [
    "df = df.merge(view_item1, on='user_id', how='left')\n",
    "df.shape"
   ]
  },
  {
   "cell_type": "code",
   "execution_count": 49,
   "metadata": {},
   "outputs": [],
   "source": [
    "df.drop(['user_id','impression_id','impression_time'], axis=1, inplace=True)"
   ]
  },
  {
   "cell_type": "code",
   "execution_count": 50,
   "metadata": {},
   "outputs": [],
   "source": [
    "train_df = df[df['is_click'].isnull()!=True]\n",
    "test_df = df[df['is_click'].isnull()==True]\n",
    "test_df.drop('is_click', axis=1, inplace=True)"
   ]
  },
  {
   "cell_type": "code",
   "execution_count": 51,
   "metadata": {},
   "outputs": [
    {
     "data": {
      "text/plain": [
       "((237609, 623), (90675, 622))"
      ]
     },
     "execution_count": 51,
     "metadata": {},
     "output_type": "execute_result"
    }
   ],
   "source": [
    "train_df.shape, test_df.shape"
   ]
  },
  {
   "cell_type": "markdown",
   "metadata": {},
   "source": [
    "### Train test split"
   ]
  },
  {
   "cell_type": "code",
   "execution_count": 52,
   "metadata": {},
   "outputs": [],
   "source": [
    "X = train_df.drop(labels=['is_click'], axis=1)\n",
    "y = train_df['is_click'].values\n",
    "\n",
    "from sklearn.model_selection import train_test_split\n",
    "X_train, X_cv, y_train, y_cv = train_test_split(X, y, test_size=0.25, random_state=1)"
   ]
  },
  {
   "cell_type": "code",
   "execution_count": 53,
   "metadata": {},
   "outputs": [
    {
     "data": {
      "text/plain": [
       "((178206, 622), (178206,), (59403, 622), (59403,))"
      ]
     },
     "execution_count": 53,
     "metadata": {},
     "output_type": "execute_result"
    }
   ],
   "source": [
    "X_train.shape, y_train.shape, X_cv.shape, y_cv.shape"
   ]
  },
  {
   "cell_type": "markdown",
   "metadata": {},
   "source": [
    "### Build the model"
   ]
  },
  {
   "cell_type": "code",
   "execution_count": 54,
   "metadata": {},
   "outputs": [],
   "source": [
    "from math import sqrt \n",
    "from sklearn.metrics import roc_auc_score"
   ]
  },
  {
   "cell_type": "code",
   "execution_count": 55,
   "metadata": {},
   "outputs": [
    {
     "name": "stdout",
     "output_type": "stream",
     "text": [
      "Training until validation scores don't improve for 100 rounds.\n",
      "[100]\tvalid_0's auc: 0.738126\tvalid_0's binary_logloss: 0.169757\n",
      "[200]\tvalid_0's auc: 0.74354\tvalid_0's binary_logloss: 0.168735\n",
      "[300]\tvalid_0's auc: 0.744769\tvalid_0's binary_logloss: 0.168466\n",
      "[400]\tvalid_0's auc: 0.74514\tvalid_0's binary_logloss: 0.168429\n",
      "Early stopping, best iteration is:\n",
      "[389]\tvalid_0's auc: 0.745218\tvalid_0's binary_logloss: 0.16841\n"
     ]
    }
   ],
   "source": [
    "from lightgbm import LGBMClassifier\n",
    "\n",
    "lgbm = LGBMClassifier(boosting_type='gbdt', num_leaves=31, max_depth=-1, learning_rate=0.07, n_estimators=1000, \n",
    "                      min_child_weight=0.01, colsample_bytree=0.5, random_state=0)\n",
    "\n",
    "lgbm.fit(X_train, y_train,\n",
    "         eval_set=[(X_cv, y_cv)],\n",
    "         eval_metric='auc',\n",
    "         early_stopping_rounds=100,\n",
    "         verbose=100)\n",
    "\n",
    "y_pred = lgbm.predict_proba(X_cv)[:,-1]"
   ]
  },
  {
   "cell_type": "code",
   "execution_count": 56,
   "metadata": {},
   "outputs": [
    {
     "data": {
      "text/plain": [
       "0.745217567904112"
      ]
     },
     "execution_count": 56,
     "metadata": {},
     "output_type": "execute_result"
    }
   ],
   "source": [
    "roc_auc_score(y_cv, y_pred)"
   ]
  },
  {
   "cell_type": "markdown",
   "metadata": {},
   "source": [
    "### Predict on test set"
   ]
  },
  {
   "cell_type": "code",
   "execution_count": 57,
   "metadata": {},
   "outputs": [],
   "source": [
    "Xtest = test_df"
   ]
  },
  {
   "cell_type": "code",
   "execution_count": 58,
   "metadata": {},
   "outputs": [
    {
     "name": "stdout",
     "output_type": "stream",
     "text": [
      "Training until validation scores don't improve for 100 rounds.\n",
      "[100]\tvalid_0's auc: 0.784245\tvalid_0's binary_logloss: 0.162723\n",
      "[200]\tvalid_0's auc: 0.820579\tvalid_0's binary_logloss: 0.156223\n",
      "[300]\tvalid_0's auc: 0.844771\tvalid_0's binary_logloss: 0.151152\n",
      "[400]\tvalid_0's auc: 0.863371\tvalid_0's binary_logloss: 0.146849\n",
      "[500]\tvalid_0's auc: 0.877285\tvalid_0's binary_logloss: 0.143099\n",
      "[600]\tvalid_0's auc: 0.888866\tvalid_0's binary_logloss: 0.1397\n",
      "[700]\tvalid_0's auc: 0.898138\tvalid_0's binary_logloss: 0.136537\n",
      "[800]\tvalid_0's auc: 0.905485\tvalid_0's binary_logloss: 0.133797\n",
      "[900]\tvalid_0's auc: 0.911598\tvalid_0's binary_logloss: 0.131117\n",
      "[1000]\tvalid_0's auc: 0.916088\tvalid_0's binary_logloss: 0.128878\n",
      "Did not meet early stopping. Best iteration is:\n",
      "[1000]\tvalid_0's auc: 0.916088\tvalid_0's binary_logloss: 0.128878\n",
      "ROC_AUC Score:  0.7474061602034264\n",
      "--------------------Fold 1 completed !!!------------------\n",
      "Training until validation scores don't improve for 100 rounds.\n",
      "[100]\tvalid_0's auc: 0.785594\tvalid_0's binary_logloss: 0.162615\n",
      "[200]\tvalid_0's auc: 0.822009\tvalid_0's binary_logloss: 0.156091\n",
      "[300]\tvalid_0's auc: 0.84656\tvalid_0's binary_logloss: 0.151121\n",
      "[400]\tvalid_0's auc: 0.864922\tvalid_0's binary_logloss: 0.146716\n",
      "[500]\tvalid_0's auc: 0.878396\tvalid_0's binary_logloss: 0.143037\n",
      "[600]\tvalid_0's auc: 0.888928\tvalid_0's binary_logloss: 0.139701\n",
      "[700]\tvalid_0's auc: 0.897169\tvalid_0's binary_logloss: 0.136766\n",
      "[800]\tvalid_0's auc: 0.903284\tvalid_0's binary_logloss: 0.134158\n",
      "[900]\tvalid_0's auc: 0.909167\tvalid_0's binary_logloss: 0.131725\n",
      "[1000]\tvalid_0's auc: 0.914096\tvalid_0's binary_logloss: 0.129367\n",
      "Did not meet early stopping. Best iteration is:\n",
      "[1000]\tvalid_0's auc: 0.914096\tvalid_0's binary_logloss: 0.129367\n",
      "ROC_AUC Score:  0.7323859504274735\n",
      "--------------------Fold 2 completed !!!------------------\n",
      "Training until validation scores don't improve for 100 rounds.\n",
      "[100]\tvalid_0's auc: 0.78301\tvalid_0's binary_logloss: 0.163189\n",
      "[200]\tvalid_0's auc: 0.818624\tvalid_0's binary_logloss: 0.156813\n",
      "[300]\tvalid_0's auc: 0.839971\tvalid_0's binary_logloss: 0.152085\n",
      "[400]\tvalid_0's auc: 0.857415\tvalid_0's binary_logloss: 0.147954\n",
      "[500]\tvalid_0's auc: 0.872728\tvalid_0's binary_logloss: 0.144005\n",
      "[600]\tvalid_0's auc: 0.884028\tvalid_0's binary_logloss: 0.140724\n",
      "[700]\tvalid_0's auc: 0.891748\tvalid_0's binary_logloss: 0.13798\n",
      "[800]\tvalid_0's auc: 0.898949\tvalid_0's binary_logloss: 0.135308\n",
      "[900]\tvalid_0's auc: 0.904711\tvalid_0's binary_logloss: 0.132927\n",
      "[1000]\tvalid_0's auc: 0.909637\tvalid_0's binary_logloss: 0.130574\n",
      "Did not meet early stopping. Best iteration is:\n",
      "[1000]\tvalid_0's auc: 0.909637\tvalid_0's binary_logloss: 0.130574\n",
      "ROC_AUC Score:  0.7437113427180858\n",
      "--------------------Fold 3 completed !!!------------------\n",
      "Training until validation scores don't improve for 100 rounds.\n",
      "[100]\tvalid_0's auc: 0.78965\tvalid_0's binary_logloss: 0.162403\n",
      "[200]\tvalid_0's auc: 0.824094\tvalid_0's binary_logloss: 0.155957\n",
      "[300]\tvalid_0's auc: 0.849113\tvalid_0's binary_logloss: 0.15075\n",
      "[400]\tvalid_0's auc: 0.866549\tvalid_0's binary_logloss: 0.146491\n",
      "[500]\tvalid_0's auc: 0.879452\tvalid_0's binary_logloss: 0.142903\n",
      "[600]\tvalid_0's auc: 0.890633\tvalid_0's binary_logloss: 0.139654\n",
      "[700]\tvalid_0's auc: 0.899909\tvalid_0's binary_logloss: 0.136571\n",
      "[800]\tvalid_0's auc: 0.907012\tvalid_0's binary_logloss: 0.133848\n",
      "[900]\tvalid_0's auc: 0.912023\tvalid_0's binary_logloss: 0.131427\n",
      "[1000]\tvalid_0's auc: 0.916082\tvalid_0's binary_logloss: 0.129239\n",
      "Did not meet early stopping. Best iteration is:\n",
      "[1000]\tvalid_0's auc: 0.916082\tvalid_0's binary_logloss: 0.129239\n",
      "ROC_AUC Score:  0.7396101733803586\n",
      "--------------------Fold 4 completed !!!------------------\n",
      "Training until validation scores don't improve for 100 rounds.\n",
      "[100]\tvalid_0's auc: 0.785442\tvalid_0's binary_logloss: 0.162797\n",
      "[200]\tvalid_0's auc: 0.820849\tvalid_0's binary_logloss: 0.156434\n",
      "[300]\tvalid_0's auc: 0.845328\tvalid_0's binary_logloss: 0.151275\n",
      "[400]\tvalid_0's auc: 0.862089\tvalid_0's binary_logloss: 0.147266\n",
      "[500]\tvalid_0's auc: 0.876174\tvalid_0's binary_logloss: 0.143569\n",
      "[600]\tvalid_0's auc: 0.887271\tvalid_0's binary_logloss: 0.140202\n",
      "[700]\tvalid_0's auc: 0.895538\tvalid_0's binary_logloss: 0.13724\n",
      "[800]\tvalid_0's auc: 0.901691\tvalid_0's binary_logloss: 0.134617\n",
      "[900]\tvalid_0's auc: 0.907147\tvalid_0's binary_logloss: 0.132209\n",
      "[1000]\tvalid_0's auc: 0.912336\tvalid_0's binary_logloss: 0.129883\n",
      "Did not meet early stopping. Best iteration is:\n",
      "[1000]\tvalid_0's auc: 0.912336\tvalid_0's binary_logloss: 0.129883\n",
      "ROC_AUC Score:  0.7396179297097873\n",
      "--------------------Fold 5 completed !!!------------------\n",
      "Training until validation scores don't improve for 100 rounds.\n",
      "[100]\tvalid_0's auc: 0.787595\tvalid_0's binary_logloss: 0.16253\n",
      "[200]\tvalid_0's auc: 0.823048\tvalid_0's binary_logloss: 0.156219\n",
      "[300]\tvalid_0's auc: 0.849555\tvalid_0's binary_logloss: 0.150811\n",
      "[400]\tvalid_0's auc: 0.865918\tvalid_0's binary_logloss: 0.146687\n",
      "[500]\tvalid_0's auc: 0.879248\tvalid_0's binary_logloss: 0.142956\n",
      "[600]\tvalid_0's auc: 0.890302\tvalid_0's binary_logloss: 0.139582\n",
      "[700]\tvalid_0's auc: 0.899616\tvalid_0's binary_logloss: 0.136364\n",
      "[800]\tvalid_0's auc: 0.90721\tvalid_0's binary_logloss: 0.133411\n",
      "[900]\tvalid_0's auc: 0.912871\tvalid_0's binary_logloss: 0.130859\n",
      "[1000]\tvalid_0's auc: 0.917769\tvalid_0's binary_logloss: 0.12851\n",
      "Did not meet early stopping. Best iteration is:\n",
      "[1000]\tvalid_0's auc: 0.917769\tvalid_0's binary_logloss: 0.12851\n",
      "ROC_AUC Score:  0.7578489180732628\n",
      "--------------------Fold 6 completed !!!------------------\n",
      "Training until validation scores don't improve for 100 rounds.\n",
      "[100]\tvalid_0's auc: 0.786139\tvalid_0's binary_logloss: 0.162557\n",
      "[200]\tvalid_0's auc: 0.820565\tvalid_0's binary_logloss: 0.156331\n",
      "[300]\tvalid_0's auc: 0.844361\tvalid_0's binary_logloss: 0.151376\n",
      "[400]\tvalid_0's auc: 0.862216\tvalid_0's binary_logloss: 0.147099\n",
      "[500]\tvalid_0's auc: 0.877957\tvalid_0's binary_logloss: 0.143135\n",
      "[600]\tvalid_0's auc: 0.888963\tvalid_0's binary_logloss: 0.139796\n",
      "[700]\tvalid_0's auc: 0.896753\tvalid_0's binary_logloss: 0.136949\n",
      "[800]\tvalid_0's auc: 0.904385\tvalid_0's binary_logloss: 0.134098\n",
      "[900]\tvalid_0's auc: 0.910145\tvalid_0's binary_logloss: 0.1316\n",
      "[1000]\tvalid_0's auc: 0.915266\tvalid_0's binary_logloss: 0.129179\n",
      "Did not meet early stopping. Best iteration is:\n",
      "[1000]\tvalid_0's auc: 0.915266\tvalid_0's binary_logloss: 0.129179\n",
      "ROC_AUC Score:  0.7467460573684115\n",
      "--------------------Fold 7 completed !!!------------------\n",
      "Training until validation scores don't improve for 100 rounds.\n",
      "[100]\tvalid_0's auc: 0.786284\tvalid_0's binary_logloss: 0.162758\n",
      "[200]\tvalid_0's auc: 0.821749\tvalid_0's binary_logloss: 0.156406\n",
      "[300]\tvalid_0's auc: 0.846285\tvalid_0's binary_logloss: 0.151366\n",
      "[400]\tvalid_0's auc: 0.864182\tvalid_0's binary_logloss: 0.147019\n",
      "[500]\tvalid_0's auc: 0.877222\tvalid_0's binary_logloss: 0.143361\n",
      "[600]\tvalid_0's auc: 0.888795\tvalid_0's binary_logloss: 0.139959\n",
      "[700]\tvalid_0's auc: 0.897531\tvalid_0's binary_logloss: 0.136851\n",
      "[800]\tvalid_0's auc: 0.904769\tvalid_0's binary_logloss: 0.133964\n",
      "[900]\tvalid_0's auc: 0.910291\tvalid_0's binary_logloss: 0.131532\n",
      "[1000]\tvalid_0's auc: 0.915604\tvalid_0's binary_logloss: 0.12906\n",
      "Did not meet early stopping. Best iteration is:\n",
      "[1000]\tvalid_0's auc: 0.915604\tvalid_0's binary_logloss: 0.12906\n",
      "ROC_AUC Score:  0.7469639128777155\n",
      "--------------------Fold 8 completed !!!------------------\n",
      "Training until validation scores don't improve for 100 rounds.\n",
      "[100]\tvalid_0's auc: 0.784604\tvalid_0's binary_logloss: 0.163086\n",
      "[200]\tvalid_0's auc: 0.821657\tvalid_0's binary_logloss: 0.156528\n",
      "[300]\tvalid_0's auc: 0.843813\tvalid_0's binary_logloss: 0.151875\n",
      "[400]\tvalid_0's auc: 0.860868\tvalid_0's binary_logloss: 0.147645\n",
      "[500]\tvalid_0's auc: 0.874232\tvalid_0's binary_logloss: 0.144067\n",
      "[600]\tvalid_0's auc: 0.885457\tvalid_0's binary_logloss: 0.140741\n",
      "[700]\tvalid_0's auc: 0.894155\tvalid_0's binary_logloss: 0.137628\n",
      "[800]\tvalid_0's auc: 0.901296\tvalid_0's binary_logloss: 0.134954\n",
      "[900]\tvalid_0's auc: 0.90722\tvalid_0's binary_logloss: 0.132371\n",
      "[1000]\tvalid_0's auc: 0.911731\tvalid_0's binary_logloss: 0.130202\n",
      "Did not meet early stopping. Best iteration is:\n",
      "[1000]\tvalid_0's auc: 0.911731\tvalid_0's binary_logloss: 0.130202\n",
      "ROC_AUC Score:  0.7357201301951221\n"
     ]
    },
    {
     "name": "stdout",
     "output_type": "stream",
     "text": [
      "--------------------Fold 9 completed !!!------------------\n",
      "Training until validation scores don't improve for 100 rounds.\n",
      "[100]\tvalid_0's auc: 0.786286\tvalid_0's binary_logloss: 0.162593\n",
      "[200]\tvalid_0's auc: 0.823633\tvalid_0's binary_logloss: 0.155933\n",
      "[300]\tvalid_0's auc: 0.846625\tvalid_0's binary_logloss: 0.151066\n",
      "[400]\tvalid_0's auc: 0.862477\tvalid_0's binary_logloss: 0.147152\n",
      "[500]\tvalid_0's auc: 0.87731\tvalid_0's binary_logloss: 0.143423\n",
      "[600]\tvalid_0's auc: 0.888124\tvalid_0's binary_logloss: 0.140056\n",
      "[700]\tvalid_0's auc: 0.898182\tvalid_0's binary_logloss: 0.136925\n",
      "[800]\tvalid_0's auc: 0.904878\tvalid_0's binary_logloss: 0.134328\n",
      "[900]\tvalid_0's auc: 0.910502\tvalid_0's binary_logloss: 0.131861\n",
      "[1000]\tvalid_0's auc: 0.91527\tvalid_0's binary_logloss: 0.129593\n",
      "Did not meet early stopping. Best iteration is:\n",
      "[1000]\tvalid_0's auc: 0.91527\tvalid_0's binary_logloss: 0.129593\n",
      "ROC_AUC Score:  0.7458619781932754\n",
      "--------------------Fold 10 completed !!!------------------\n"
     ]
    }
   ],
   "source": [
    "err=[]\n",
    "y_pred_tot=[]\n",
    "from sklearn.model_selection import KFold,StratifiedKFold,RepeatedStratifiedKFold\n",
    "fold=StratifiedKFold(n_splits=10, shuffle=True, random_state=1994)\n",
    "i=1\n",
    "\n",
    "for train_index, test_index in fold.split(X,y):\n",
    "    X_train, X_test = X.iloc[train_index], X.iloc[test_index]\n",
    "    y_train, y_test = y[train_index], y[test_index]\n",
    "    \n",
    "    lgbm = LGBMClassifier(boosting_type='gbdt', num_leaves=31, max_depth=-1, learning_rate=0.07, n_estimators=1000, \n",
    "                          min_child_weight=0.01, colsample_bytree=0.5, random_state=0)\n",
    "    \n",
    "    lgbm.fit(X_train, y_train, eval_set=[(X_cv, y_cv)], eval_metric='auc', early_stopping_rounds=100, verbose=100)\n",
    "    preds = lgbm.predict_proba(X_test)[:,-1]\n",
    "    \n",
    "    print(\"ROC_AUC Score: \", roc_auc_score(y_test, preds))\n",
    "    err.append(roc_auc_score(y_test,preds))\n",
    "    p = lgbm.predict_proba(Xtest)[:,-1]\n",
    "    print(f'--------------------Fold {i} completed !!!------------------')\n",
    "    i=i+1\n",
    "    y_pred_tot.append(p)"
   ]
  },
  {
   "cell_type": "code",
   "execution_count": 59,
   "metadata": {},
   "outputs": [
    {
     "data": {
      "text/plain": [
       "0.7435872553146919"
      ]
     },
     "execution_count": 59,
     "metadata": {},
     "output_type": "execute_result"
    }
   ],
   "source": [
    "err_avg = np.mean(err,0)\n",
    "err_avg"
   ]
  },
  {
   "cell_type": "code",
   "execution_count": 60,
   "metadata": {},
   "outputs": [
    {
     "data": {
      "text/plain": [
       "array([0.01168516, 0.00212999, 0.05059397, ..., 0.02060592, 0.24435592,\n",
       "       0.4930188 ])"
      ]
     },
     "execution_count": 60,
     "metadata": {},
     "output_type": "execute_result"
    }
   ],
   "source": [
    "y_pred = np.mean(y_pred_tot,0)\n",
    "y_pred"
   ]
  },
  {
   "cell_type": "code",
   "execution_count": 61,
   "metadata": {},
   "outputs": [
    {
     "data": {
      "text/plain": [
       "90675"
      ]
     },
     "execution_count": 61,
     "metadata": {},
     "output_type": "execute_result"
    }
   ],
   "source": [
    "len(y_pred)"
   ]
  },
  {
   "cell_type": "markdown",
   "metadata": {},
   "source": [
    "### Submission"
   ]
  },
  {
   "cell_type": "code",
   "execution_count": 62,
   "metadata": {},
   "outputs": [],
   "source": [
    "sub['is_click'] = y_pred"
   ]
  },
  {
   "cell_type": "code",
   "execution_count": 63,
   "metadata": {},
   "outputs": [
    {
     "data": {
      "text/html": [
       "<div>\n",
       "<style scoped>\n",
       "    .dataframe tbody tr th:only-of-type {\n",
       "        vertical-align: middle;\n",
       "    }\n",
       "\n",
       "    .dataframe tbody tr th {\n",
       "        vertical-align: top;\n",
       "    }\n",
       "\n",
       "    .dataframe thead th {\n",
       "        text-align: right;\n",
       "    }\n",
       "</style>\n",
       "<table border=\"1\" class=\"dataframe\">\n",
       "  <thead>\n",
       "    <tr style=\"text-align: right;\">\n",
       "      <th></th>\n",
       "      <th>impression_id</th>\n",
       "      <th>is_click</th>\n",
       "    </tr>\n",
       "  </thead>\n",
       "  <tbody>\n",
       "    <tr>\n",
       "      <th>0</th>\n",
       "      <td>a9e7126a585a69a32bc7414e9d0c0ada</td>\n",
       "      <td>0.011685</td>\n",
       "    </tr>\n",
       "    <tr>\n",
       "      <th>1</th>\n",
       "      <td>caac14a5bf2ba283db7708bb34855760</td>\n",
       "      <td>0.002130</td>\n",
       "    </tr>\n",
       "    <tr>\n",
       "      <th>2</th>\n",
       "      <td>13f10ba306a19ce7bec2f3cae507b698</td>\n",
       "      <td>0.050594</td>\n",
       "    </tr>\n",
       "    <tr>\n",
       "      <th>3</th>\n",
       "      <td>39c4b4dc0e9701b55a0a4f072008fb3f</td>\n",
       "      <td>0.009661</td>\n",
       "    </tr>\n",
       "    <tr>\n",
       "      <th>4</th>\n",
       "      <td>bf5a572cca75f5fc67f4b14e58b11d70</td>\n",
       "      <td>0.133262</td>\n",
       "    </tr>\n",
       "  </tbody>\n",
       "</table>\n",
       "</div>"
      ],
      "text/plain": [
       "                      impression_id  is_click\n",
       "0  a9e7126a585a69a32bc7414e9d0c0ada  0.011685\n",
       "1  caac14a5bf2ba283db7708bb34855760  0.002130\n",
       "2  13f10ba306a19ce7bec2f3cae507b698  0.050594\n",
       "3  39c4b4dc0e9701b55a0a4f072008fb3f  0.009661\n",
       "4  bf5a572cca75f5fc67f4b14e58b11d70  0.133262"
      ]
     },
     "execution_count": 63,
     "metadata": {},
     "output_type": "execute_result"
    }
   ],
   "source": [
    "sub.head()"
   ]
  },
  {
   "cell_type": "code",
   "execution_count": 64,
   "metadata": {},
   "outputs": [],
   "source": [
    "sub.to_csv('sub2_10fold_lgbm.csv', index=False)"
   ]
  }
 ],
 "metadata": {
  "kernelspec": {
   "display_name": "Python 3",
   "language": "python",
   "name": "python3"
  },
  "language_info": {
   "codemirror_mode": {
    "name": "ipython",
    "version": 3
   },
   "file_extension": ".py",
   "mimetype": "text/x-python",
   "name": "python",
   "nbconvert_exporter": "python",
   "pygments_lexer": "ipython3",
   "version": "3.6.5"
  },
  "toc": {
   "base_numbering": 1,
   "nav_menu": {},
   "number_sections": false,
   "sideBar": true,
   "skip_h1_title": false,
   "title_cell": "Table of Contents",
   "title_sidebar": "Contents",
   "toc_cell": false,
   "toc_position": {
    "height": "calc(100% - 180px)",
    "left": "10px",
    "top": "150px",
    "width": "307.2px"
   },
   "toc_section_display": true,
   "toc_window_display": true
  }
 },
 "nbformat": 4,
 "nbformat_minor": 2
}
